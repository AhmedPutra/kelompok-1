{
  "nbformat": 4,
  "nbformat_minor": 0,
  "metadata": {
    "colab": {
      "provenance": [],
      "authorship_tag": "ABX9TyMpfxxxL2ZkPC45sX6Bf93J",
      "include_colab_link": true
    },
    "kernelspec": {
      "name": "python3",
      "display_name": "Python 3"
    },
    "language_info": {
      "name": "python"
    }
  },
  "cells": [
    {
      "cell_type": "markdown",
      "metadata": {
        "id": "view-in-github",
        "colab_type": "text"
      },
      "source": [
        "<a href=\"https://colab.research.google.com/github/AhmedPutra/kelompok-1/blob/main/Untitled1.ipynb\" target=\"_parent\"><img src=\"https://colab.research.google.com/assets/colab-badge.svg\" alt=\"Open In Colab\"/></a>"
      ]
    },
    {
      "cell_type": "code",
      "execution_count": null,
      "metadata": {
        "id": "pj523pxbe2ux"
      },
      "outputs": [],
      "source": []
    },
    {
      "cell_type": "code",
      "source": [],
      "metadata": {
        "id": "9fiJcjO2e8Ov"
      },
      "execution_count": null,
      "outputs": []
    },
    {
      "cell_type": "markdown",
      "source": [
        "Kelompok 1 Elang, Mahdian, Ari, Nayla, Wulan"
      ],
      "metadata": {
        "id": "7xZAIQVDe-ub"
      }
    },
    {
      "cell_type": "code",
      "source": [
        "Kelompok 1 Elang, Mahdian, Ari, Wulan, Nayla"
      ],
      "metadata": {
        "id": "ReTxFfqAfuCB"
      },
      "execution_count": null,
      "outputs": []
    }
  ]
}